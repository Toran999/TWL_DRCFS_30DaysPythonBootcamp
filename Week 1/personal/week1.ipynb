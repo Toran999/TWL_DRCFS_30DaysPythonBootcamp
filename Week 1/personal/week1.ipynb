{
 "cells": [
  {
   "cell_type": "code",
   "execution_count": 1,
   "metadata": {},
   "outputs": [
    {
     "name": "stdout",
     "output_type": "stream",
     "text": [
      "Hello world\n"
     ]
    }
   ],
   "source": [
    "print(\"Hello world\")"
   ]
  },
  {
   "cell_type": "markdown",
   "metadata": {},
   "source": [
    "Input and Variables"
   ]
  },
  {
   "cell_type": "code",
   "execution_count": 11,
   "metadata": {},
   "outputs": [
    {
     "name": "stdout",
     "output_type": "stream",
     "text": [
      "hello sudeep\n"
     ]
    }
   ],
   "source": [
    "person = input(\"What is your name? \")\n",
    "print(\"hello \" + person ) #sstring concentration"
   ]
  },
  {
   "cell_type": "markdown",
   "metadata": {},
   "source": [
    "### Basic Data types\n",
    "1. Int->Integer\n",
    "2. Str->String\n",
    "3. Float->Float\n",
    "4. None->none\n",
    "5. Bool->boolean"
   ]
  },
  {
   "cell_type": "code",
   "execution_count": 3,
   "metadata": {},
   "outputs": [
    {
     "name": "stdout",
     "output_type": "stream",
     "text": [
      "<class 'int'>\n"
     ]
    }
   ],
   "source": [
    "integer = 1\n",
    "print(type(integer))"
   ]
  },
  {
   "cell_type": "code",
   "execution_count": 4,
   "metadata": {},
   "outputs": [
    {
     "name": "stdout",
     "output_type": "stream",
     "text": [
      "<class 'str'>\n"
     ]
    }
   ],
   "source": [
    "string = \"Toran\"\n",
    "print(type(string))"
   ]
  },
  {
   "cell_type": "code",
   "execution_count": 5,
   "metadata": {},
   "outputs": [
    {
     "name": "stdout",
     "output_type": "stream",
     "text": [
      "<class 'float'>\n"
     ]
    }
   ],
   "source": [
    "float = 1.0\n",
    "print(type(float))"
   ]
  },
  {
   "cell_type": "code",
   "execution_count": 6,
   "metadata": {},
   "outputs": [
    {
     "name": "stdout",
     "output_type": "stream",
     "text": [
      "<class 'bool'>\n"
     ]
    }
   ],
   "source": [
    "boolean = True\n",
    "print(type(boolean))"
   ]
  },
  {
   "cell_type": "code",
   "execution_count": 7,
   "metadata": {},
   "outputs": [
    {
     "name": "stdout",
     "output_type": "stream",
     "text": [
      "True\n"
     ]
    }
   ],
   "source": [
    "print(1==1)"
   ]
  },
  {
   "cell_type": "code",
   "execution_count": 8,
   "metadata": {},
   "outputs": [
    {
     "name": "stdout",
     "output_type": "stream",
     "text": [
      "True\n"
     ]
    }
   ],
   "source": [
    "print(1!=2)"
   ]
  },
  {
   "cell_type": "code",
   "execution_count": 9,
   "metadata": {},
   "outputs": [
    {
     "name": "stdout",
     "output_type": "stream",
     "text": [
      "False\n"
     ]
    }
   ],
   "source": [
    "print(1==2)"
   ]
  },
  {
   "cell_type": "code",
   "execution_count": 10,
   "metadata": {},
   "outputs": [
    {
     "name": "stdout",
     "output_type": "stream",
     "text": [
      "<class 'bool'>\n"
     ]
    }
   ],
   "source": [
    "print(type(True))"
   ]
  },
  {
   "cell_type": "code",
   "execution_count": 21,
   "metadata": {},
   "outputs": [
    {
     "name": "stdout",
     "output_type": "stream",
     "text": [
      "your are 20 years old\n"
     ]
    }
   ],
   "source": [
    "age = input(\"What is your age? \")\n",
    "print(\"your are\" , str(int(age)) , \"years old\")"
   ]
  },
  {
   "cell_type": "markdown",
   "metadata": {},
   "source": [
    "## Control flow Statements\n",
    "for driving license:\n",
    "1. Input User's age \n",
    "2. Covert user's age to integer\n",
    "3. check if user is older than 16 years old\n",
    "4. If user is older than 16 output the user is eligible."
   ]
  },
  {
   "cell_type": "code",
   "execution_count": 8,
   "metadata": {},
   "outputs": [
    {
     "name": "stdout",
     "output_type": "stream",
     "text": [
      "you aren't eligible to get driver's license yet.\n"
     ]
    }
   ],
   "source": [
    "age_str = input(\"enter your age\")\n",
    "age = int(age_str)\n",
    "if age >= 16:\n",
    "    print(\"you are eligible to get driver's license.\")\n",
    "else:\n",
    "    print(\"you aren't eligible to get driver's license yet.\")"
   ]
  },
  {
   "cell_type": "markdown",
   "metadata": {},
   "source": [
    "Login system"
   ]
  },
  {
   "cell_type": "code",
   "execution_count": 2,
   "metadata": {},
   "outputs": [
    {
     "name": "stdout",
     "output_type": "stream",
     "text": [
      "welcome to your account sudeep!\n"
     ]
    }
   ],
   "source": [
    "username = input(\"Enter your username:\")\n",
    "password = input(\"enter your password:\")\n",
    "\n",
    "if username == \"sudeep\" and password == \"bird873\":\n",
    "    print(\"welcome to your account sudeep!\")\n",
    "elif username == \"anup\" and password == \"buzz123\":\n",
    "    print(\"you are logged in anup!\")\n",
    "else:\n",
    "    print(\"invalid username or password\")"
   ]
  },
  {
   "cell_type": "markdown",
   "metadata": {},
   "source": [
    "## Looping statements\n",
    "\n",
    "#### Types of looping statements\n",
    "1. for loop\n",
    "2. while loop"
   ]
  },
  {
   "cell_type": "code",
   "execution_count": 7,
   "metadata": {},
   "outputs": [
    {
     "name": "stdout",
     "output_type": "stream",
     "text": [
      "0 is even\n",
      "1 is odd\n",
      "2 is even\n",
      "3 is odd\n",
      "4 is even\n",
      "5 is odd\n",
      "6 is even\n",
      "7 is odd\n",
      "8 is even\n",
      "9 is odd\n"
     ]
    }
   ],
   "source": [
    "for i in range(10):\n",
    "    if i % 2 == 0:\n",
    "        print(str(i),'is even')\n",
    "    else:\n",
    "        print(str(i),\"is odd\")"
   ]
  },
  {
   "cell_type": "code",
   "execution_count": 10,
   "metadata": {},
   "outputs": [
    {
     "name": "stdout",
     "output_type": "stream",
     "text": [
      "The odd numbers upto 20 are:\n",
      "1\n",
      "3\n",
      "5\n",
      "7\n",
      "9\n",
      "11\n",
      "13\n",
      "15\n",
      "17\n",
      "19\n"
     ]
    }
   ],
   "source": [
    "num = input(\"Enter any number:\")\n",
    "n = int(num)\n",
    "print(\"The odd numbers upto\",num, \"are:\")\n",
    "for i in range(1,n,2):\n",
    "    print(str(i))"
   ]
  },
  {
   "cell_type": "markdown",
   "metadata": {},
   "source": [
    "Range Function\n",
    "1. range(10)->0,1,2,....,9\n",
    "2. range (1,11)->1,2,3,...10\n",
    "3. range(1,11,3)->1,4,7,10"
   ]
  },
  {
   "cell_type": "markdown",
   "metadata": {},
   "source": [
    "### Guessing Game\n",
    "1. Generate a random number\n",
    "2. Create a loop statement\n",
    "    1. Take input from the user (int)\n",
    "    2. Compare the generated number with user input and \n",
    "        output if the guess is greater or lesser.\n",
    "    3. if the guess and generated number are equal end\n",
    "       the game.\n",
    "    3. give three chances to the user."
   ]
  },
  {
   "cell_type": "code",
   "execution_count": 12,
   "metadata": {},
   "outputs": [
    {
     "name": "stdout",
     "output_type": "stream",
     "text": [
      "Guess a number between 1 and 10.\n",
      "Guess a number between 1 and 10.\n",
      "Guess a number between 1 and 10.\n",
      "Guess a number between 1 and 10.\n",
      "Guess a number between 1 and 10.\n"
     ]
    }
   ],
   "source": [
    "import random\n",
    "\n",
    "num = random.randint(1,10)\n",
    "t=5\n",
    "for i in range(t):\n",
    "    guess = int(input(\"Enter your guess here: \"))\n",
    "    if guess > 10 or guess < 1:\n",
    "        print(\"Guess a number between 1 and 10.\")\n",
    "    else:\n",
    "        if guess == num:\n",
    "            print(\"*\"*50)\n",
    "            print(f\"yay! you got the correct guess in {i+1} tries.\")\n",
    "            print(\"*\"*50)\n",
    "            break\n",
    "        elif guess > num:\n",
    "            print(\"*\"*50)\n",
    "            print(\"your guess is larger\")\n",
    "            print(\"*\"*50)\n",
    "        else:\n",
    "            print(\"*\"*50)\n",
    "            print(\"your guess is smaller\")\n",
    "            print(\"*\"*50)  \n",
    "\n",
    "        if i==t-1:\n",
    "            print(f\"You lost....{num} was the answer.\")      \n"
   ]
  },
  {
   "cell_type": "markdown",
   "metadata": {},
   "source": [
    "# List and tuples"
   ]
  },
  {
   "cell_type": "code",
   "execution_count": 5,
   "metadata": {},
   "outputs": [
    {
     "name": "stdout",
     "output_type": "stream",
     "text": [
      "['Anuj', 'Samrid', 'Ashim', 'Bishal', 'Saughat', 'Utsav', 'Hari']\n",
      "['Anuj', 'Samrid', 'Ashim', 'Bishal', 'Saughat', 'Utsav', 'Hari', 'someone']\n",
      "['Samrid', 'Ashim', 'Bishal', 'Saughat', 'Utsav', 'Hari', 'someone']\n",
      "['Ann', 'Samrid', 'Ashim', 'Bishal', 'Saughat', 'Utsav', 'Hari', 'someone']\n"
     ]
    }
   ],
   "source": [
    "#lists\n",
    "mentors = [\"Anuj\", \"Samrid\", \"Ashim\", \"Bishal\", \"Saughat\", \"Utsav\", \"Hari\"]\n",
    "print(mentors)\n",
    "\n",
    "mentors.append(\"someone\")\n",
    "print(mentors)\n",
    "\n",
    "mentors.pop(0) #removes the element of index 0\n",
    "print(mentors)\n",
    "\n",
    "mentors.insert(0,\"Ann\")\n",
    "print(mentors)"
   ]
  },
  {
   "cell_type": "markdown",
   "metadata": {},
   "source": [
    "### Lists are mutuable, So we can change things in this variable.\n",
    "#### Redeclaration: name=\"abc\" name=\"xyz\"\n",
    "###### strings are immutable."
   ]
  },
  {
   "cell_type": "markdown",
   "metadata": {},
   "source": [
    "Lists vs Tuples:\n",
    "List:\n",
    "1. Initialization -> [1,2,3]\n",
    "2. mutable\n",
    "\n",
    "Tuples:\n",
    "1. Initialization -> (1,2,3)\n",
    "2. Immutable"
   ]
  },
  {
   "cell_type": "code",
   "execution_count": 8,
   "metadata": {},
   "outputs": [
    {
     "name": "stdout",
     "output_type": "stream",
     "text": [
      "('violet', 'Indigo', 'blue', 'green', 'yellow', 'orange', 'red')\n",
      "violet\n",
      "Indigo\n",
      "blue\n",
      "green\n",
      "yellow\n",
      "orange\n",
      "red\n"
     ]
    }
   ],
   "source": [
    "#tuple\n",
    "rainbow = (\"violet\", \"Indigo\", \"blue\", \"green\", \"yellow\", \"orange\", \"red\")\n",
    "print(rainbow)\n",
    "\n",
    "for color in rainbow:\n",
    "    print(color)"
   ]
  }
 ],
 "metadata": {
  "kernelspec": {
   "display_name": "Python 3.9.12 ('base')",
   "language": "python",
   "name": "python3"
  },
  "language_info": {
   "codemirror_mode": {
    "name": "ipython",
    "version": 3
   },
   "file_extension": ".py",
   "mimetype": "text/x-python",
   "name": "python",
   "nbconvert_exporter": "python",
   "pygments_lexer": "ipython3",
   "version": "3.9.12"
  },
  "orig_nbformat": 4,
  "vscode": {
   "interpreter": {
    "hash": "49272aa33fdb61e9499867597fd977692335e0ff84e3b9af04c9ed154e36bd5b"
   }
  }
 },
 "nbformat": 4,
 "nbformat_minor": 2
}
